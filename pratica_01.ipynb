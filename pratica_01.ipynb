{
  "nbformat": 4,
  "nbformat_minor": 0,
  "metadata": {
    "colab": {
      "name": "Prática_01",
      "provenance": [],
      "collapsed_sections": []
    },
    "kernelspec": {
      "name": "python3",
      "display_name": "Python 3"
    },
    "language_info": {
      "name": "python"
    }
  },
  "cells": [
    {
      "cell_type": "code",
      "metadata": {
        "colab": {
          "base_uri": "https://localhost:8080/"
        },
        "id": "9LQNBhg8kxqn",
        "outputId": "9e694dda-6482-49ed-dcf1-9f4ca630bda5"
      },
      "source": [
        "class Aplicação:\n",
        "\n",
        "  def somarLista(self, lista):\n",
        "    soma = 0\n",
        "    for n in lista:\n",
        "        soma += n\n",
        "    return soma\n",
        "  \n",
        "class Servidor:\n",
        "  def requisicao(self, lista):\n",
        "    data = Aplicação()\n",
        "    return  data.somarLista(lista)\n",
        "\n",
        "class Cliente:\n",
        "  def resposta(self, lista):\n",
        "    conexao = Servidor()\n",
        "    return conexao.requisicao(lista)\n",
        "\n",
        "\n",
        "def main(solicitacao):\n",
        "  rpc = Cliente()\n",
        "  print(rpc.resposta(solicitacao))\n",
        "\n",
        "\n",
        "envio = [10, 20, 170, 0]\n",
        "main(envio)"
      ],
      "execution_count": 83,
      "outputs": [
        {
          "output_type": "stream",
          "name": "stdout",
          "text": [
            "200\n"
          ]
        }
      ]
    }
  ]
}